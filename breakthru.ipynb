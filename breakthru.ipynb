{
 "cells": [
  {
   "cell_type": "code",
   "execution_count": 83,
   "metadata": {},
   "outputs": [],
   "source": [
    "import tkinter as tk\n",
    "\n",
    "\n",
    "class BattleScreen(tk.Frame):\n",
    "    def __init__(self, root):\n",
    "        tk.Frame.__init__(self, root)\n",
    "        \n",
    "        self.buttons = [[None] * 7 for _ in range(7)]\n",
    "\n",
    "        for row in range(7):\n",
    "            for col in range(7):\n",
    "                button = tk.Button(self, width=4, height=3, command=lambda r=row, c=col: self.on_button_click(r, c))\n",
    "                button.grid(row=row, column=col)\n",
    "                self.buttons[row][col] = button\n",
    "\n",
    "    def on_button_click(self, row, col):\n",
    "        print(f\"Button clicked at row {row}, column {col}\")"
   ]
  },
  {
   "cell_type": "code",
   "execution_count": 84,
   "metadata": {},
   "outputs": [],
   "source": [
    "class Controls(tk.Frame):\n",
    "    def __init__(self, root, battle_screen):\n",
    "        tk.Frame.__init__(self, root)\n",
    "\n",
    "        self.battle_screen = battle_screen\n",
    "\n",
    "        self.quit_button = tk.Button(self, text=\"Quit\", width=6, command=root.destroy)\n",
    "        self.quit_button.pack()\n"
   ]
  },
  {
   "cell_type": "code",
   "execution_count": 85,
   "metadata": {},
   "outputs": [],
   "source": [
    "class GameApp:\n",
    "    def __init__(self, root):\n",
    "        self.root = root\n",
    "        self.root.title(\"Breakthru\")\n",
    "\n",
    "        self.battle_screen = BattleScreen(self.root)\n",
    "        self.battle_screen.pack()\n",
    "\n",
    "        self.controls = Controls(self.root, self.battle_screen)\n",
    "        self.controls.pack()"
   ]
  },
  {
   "cell_type": "code",
   "execution_count": 86,
   "metadata": {},
   "outputs": [],
   "source": [
    "def main():\n",
    "    root = tk.Tk()\n",
    "    app = GameApp(root)\n",
    "    root.mainloop()"
   ]
  },
  {
   "cell_type": "code",
   "execution_count": 87,
   "metadata": {},
   "outputs": [
    {
     "name": "stdout",
     "output_type": "stream",
     "text": [
      "Button clicked at row 2, column 5\n",
      "Button clicked at row 3, column 3\n",
      "Button clicked at row 5, column 4\n"
     ]
    }
   ],
   "source": [
    "main()"
   ]
  }
 ],
 "metadata": {
  "kernelspec": {
   "display_name": "Python 3",
   "language": "python",
   "name": "python3"
  },
  "language_info": {
   "codemirror_mode": {
    "name": "ipython",
    "version": 3
   },
   "file_extension": ".py",
   "mimetype": "text/x-python",
   "name": "python",
   "nbconvert_exporter": "python",
   "pygments_lexer": "ipython3",
   "version": "3.10.12"
  }
 },
 "nbformat": 4,
 "nbformat_minor": 2
}
