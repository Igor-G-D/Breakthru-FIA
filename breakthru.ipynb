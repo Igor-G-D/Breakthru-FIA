{
 "cells": [
  {
   "cell_type": "code",
   "execution_count": 7,
   "metadata": {},
   "outputs": [],
   "source": [
    "import numpy as np\n",
    "\n",
    "class MoveError(Exception):\n",
    "    pass\n",
    "\n",
    "class Game:\n",
    "    \n",
    "    MAX_MOVES = 2\n",
    "    \n",
    "    def __init__(self, start): # start = starting player (1 or -1)\n",
    "        \n",
    "        self.board = np.zeros((7, 7)); # initialize a 7x7 board populated with 0's\n",
    "        \n",
    "        self.board[2:5, 2:5] = 1 # populate the center 3x3 tiles with 1's (gold ships)\n",
    "        self.board[3][3] = 2 # populate the center tile with 2 (flag)\n",
    "        self.board[2:5, [0, 6]] = -1 # populate the middle 3 outer horizontal tiles with -1 (silver ships)\n",
    "        self.board[[0, 6], 2:5] = -1 # populate the middle 3 outer vertical tiles with -1 (silver ships)\n",
    "        \n",
    "        self.goldPieces = [(i, j) for i in range(2, 5) for j in range(2, 5)] # contains all the positions of the gold pieces\n",
    "        self.goldPieces.remove((3, 3)) # flag is a special piece\n",
    "        self.silverPieces = [(i, j) for i in range(7) for j in range(7) if self.board[i, j] == -1] # contains all the positions of the silver pieces\n",
    "        self.flag = (3,3) # flag is a special piece\n",
    "        \n",
    "        self.toMove = start # player to move first\n",
    "        self.numMoves = 0 # number of moves already made by the player\n",
    "        \n",
    "        self.gameState = 0; # gamestate => 0 if game is in progress, 1 if gold wins, -1 if silver wins\n",
    "    \n",
    "    def move(self, originalPos, nextPos):\n",
    "        old_x,old_y = originalPos;\n",
    "        new_x, new_y = nextPos;\n",
    "        \n",
    "        if not (0 <= old_x <= 6 and 0 <= old_y <= 6 and 0 <= new_x <= 6 and 0 <= new_y <= 6) : # either the old pos or new pos is out of bounds for the 7x7 board\n",
    "            raise MoveError(\"Out of Bounds\")\n",
    "        \n",
    "        if (self.board[old_x][old_y] != self.toMove) or (self.board[old_x][old_y] + self.toMove == 3) : # piece selected isn't the current player's pieces\n",
    "            #explanation, self.board[old_x][old_y] + self.toMove will only ever equal 3 if the selected piece is the flag, and the player to move is gold\n",
    "            raise MoveError(\"Invalid Piece to Move\")\n",
    "        \n",
    "        euclidian_distance = (old_x - new_x)**2 + (old_y - new_y)**2 # euclidian distance squared\n",
    "        \n",
    "        if euclidian_distance > 2 or euclidian_distance == 0 : # if tried to move in place, or tried to move too far away\n",
    "            raise MoveError(\"Invalid Movement. Tried to move too far, or in place!\")\n",
    "        \n",
    "        # finished testing general invalidations, now decide what move is being made\n",
    "        \n",
    "        if euclidian_distance == 1 : # horizontal move \n",
    "            if (self.board[new_x][new_y] != 0) : # must move into an empty space\n",
    "                raise MoveError(\"Invalid Movement. Space is already occupied\")\n",
    "\n",
    "            self.board[new_x][new_y] = self.board[old_x][old_y]\n",
    "            self.board[old_x][old_y] = 0\n",
    "            \n",
    "            if self.toMove == 1 : # gold pieces\n",
    "                if self.board[old_x][old_y] == 1 :\n",
    "                    self.goldPieces.remove((old_x,old_y))\n",
    "                    self.goldPieces.append((new_x,new_y))\n",
    "                elif (self.numMoves == 0) : # moving flag. since it's not a piece, if it passed the earlier checks, it must be the flag\n",
    "                    self.flag = (new_x,new_y) # will only ever enter this condition if the player can select the flag piece, aka, the player owns the gold pieces\n",
    "                    self.numMoves += 1\n",
    "                else :\n",
    "                    raise MoveError(\"Invalid Movement. Not enough movement left to move flag\")\n",
    "                \n",
    "                if new_x == 0 or new_x == 6 or new_y == 0 or new_y == 6 :\n",
    "                    self.gameState = 1 # gold piece reached the border, gold won\n",
    "            else : # silver pieces\n",
    "                self.silverPieces.remove((old_x,old_y))\n",
    "                self.silverPieces.append((new_x,new_y))\n",
    "            \n",
    "            self.numMoves += 1\n",
    "            \n",
    "            return True # successful move\n",
    "        \n",
    "        # if euclidian distance isn't 1, because of the test done earlier to make sure the movement wasn't past what is allowed, it must be 2\n",
    "        \n",
    "        # diagonal capture\n",
    "        \n",
    "        if self.board[new_x][new_y] == 0 :\n",
    "            raise MoveError(\"Invalid Movement. can't move into a diagonal empty space\")\n",
    "        if self.board[new_x][new_y] * self.board[old_x][old_y] > 0 : # will only result in positive if the pieces are of the same side\n",
    "            raise MoveError(\"Invalid Movement. can't capture your own pieces\")\n",
    "        if self.numMoves != 0 :\n",
    "            raise MoveError(\"Invalid Movement. Not enough movement to capture\")\n",
    "        \n",
    "        if self.toMove == 1 and self.board[new_x][new_y] == -1 : # gold pieces capturing a silver piece\n",
    "            if self.board[old_x][old_y] == 1 :\n",
    "                self.goldPieces.remove((old_x,old_y))\n",
    "                self.goldPieces.append((new_x,new_y))\n",
    "            else : # moving flag\n",
    "                self.flag = (new_x,new_y) # will only ever enter this condition if the player can select the flag piece, aka, the player owns the gold pieces\n",
    "            \n",
    "            self.silverPieces.remove((new_x,new_y)) # silver piece was captured\n",
    "            \n",
    "        elif self.toMove == -1 and self.board[new_x][new_y] == 1 :\n",
    "            self.silverPieces.remove((old_x,old_y))\n",
    "            self.silverPieces.append((new_x,new_y))\n",
    "            \n",
    "            self.goldPieces.remove((new_x,new_y)) # gold piece was captured\n",
    "            \n",
    "        elif self.toMove == -1 and self.board[new_x][new_y] == 2 :\n",
    "            self.silverPieces.remove((old_x,old_y))\n",
    "            self.silverPieces.append((new_x,new_y))\n",
    "            \n",
    "            self.flag = None;\n",
    "            self.gameState = -1 #flag was captured, silver won\n",
    "            \n",
    "        self.numMoves += 2; # capturing takes all the move\n",
    "    "
   ]
  },
  {
   "cell_type": "code",
   "execution_count": 9,
   "metadata": {},
   "outputs": [
    {
     "data": {
      "text/plain": [
       "[(2, 2), (2, 3), (2, 4), (3, 2), (3, 3), (3, 4), (4, 2), (4, 3), (4, 4)]"
      ]
     },
     "execution_count": 9,
     "metadata": {},
     "output_type": "execute_result"
    }
   ],
   "source": [
    "game = Game(2)\n",
    "\n",
    "game.goldPieces"
   ]
  },
  {
   "cell_type": "code",
   "execution_count": 83,
   "metadata": {},
   "outputs": [],
   "source": [
    "import tkinter as tk\n",
    "\n",
    "\n",
    "class BattleScreen(tk.Frame):\n",
    "    def __init__(self, root):\n",
    "        tk.Frame.__init__(self, root)\n",
    "        \n",
    "        self.buttons = [[None] * 7 for _ in range(7)]\n",
    "\n",
    "        for row in range(7):\n",
    "            for col in range(7):\n",
    "                button = tk.Button(self, width=4, height=3, command=lambda r=row, c=col: self.on_button_click(r, c))\n",
    "                button.grid(row=row, column=col)\n",
    "                self.buttons[row][col] = button\n",
    "\n",
    "    def on_button_click(self, row, col):\n",
    "        print(f\"Button clicked at row {row}, column {col}\")"
   ]
  },
  {
   "cell_type": "code",
   "execution_count": 84,
   "metadata": {},
   "outputs": [],
   "source": [
    "class Controls(tk.Frame):\n",
    "    def __init__(self, root, battle_screen):\n",
    "        tk.Frame.__init__(self, root)\n",
    "\n",
    "        self.battle_screen = battle_screen\n",
    "\n",
    "        self.quit_button = tk.Button(self, text=\"Quit\", width=6, command=root.destroy)\n",
    "        self.quit_button.pack()\n"
   ]
  },
  {
   "cell_type": "code",
   "execution_count": 85,
   "metadata": {},
   "outputs": [],
   "source": [
    "class GameApp:\n",
    "    def __init__(self, root):\n",
    "        self.root = root\n",
    "        self.root.title(\"Breakthru\")\n",
    "\n",
    "        self.battle_screen = BattleScreen(self.root)\n",
    "        self.battle_screen.pack()\n",
    "\n",
    "        self.controls = Controls(self.root, self.battle_screen)\n",
    "        self.controls.pack()"
   ]
  },
  {
   "cell_type": "code",
   "execution_count": 86,
   "metadata": {},
   "outputs": [],
   "source": [
    "def main():\n",
    "    root = tk.Tk()\n",
    "    app = GameApp(root)\n",
    "    root.mainloop()"
   ]
  },
  {
   "cell_type": "code",
   "execution_count": 87,
   "metadata": {},
   "outputs": [
    {
     "name": "stdout",
     "output_type": "stream",
     "text": [
      "Button clicked at row 2, column 5\n",
      "Button clicked at row 3, column 3\n",
      "Button clicked at row 5, column 4\n"
     ]
    }
   ],
   "source": [
    "main()"
   ]
  }
 ],
 "metadata": {
  "kernelspec": {
   "display_name": "Python 3",
   "language": "python",
   "name": "python3"
  },
  "language_info": {
   "codemirror_mode": {
    "name": "ipython",
    "version": 3
   },
   "file_extension": ".py",
   "mimetype": "text/x-python",
   "name": "python",
   "nbconvert_exporter": "python",
   "pygments_lexer": "ipython3",
   "version": "3.10.12"
  }
 },
 "nbformat": 4,
 "nbformat_minor": 2
}
